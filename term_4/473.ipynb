{
 "cells": [
  {
   "cell_type": "code",
   "execution_count": 6,
   "metadata": {},
   "outputs": [],
   "source": [
    "import pandas as pd\n",
    "import numpy as np\n",
    "import matplotlib.pyplot as plt\n",
    "import math"
   ]
  },
  {
   "cell_type": "code",
   "execution_count": 28,
   "metadata": {},
   "outputs": [
    {
     "name": "stdout",
     "output_type": "stream",
     "text": [
      "52 1.2799416321930788 0.2762769548726037\n"
     ]
    }
   ],
   "source": [
    "# 1\n",
    "\n",
    "p1 = 89 # риска, градус\n",
    "\n",
    "# 2\n",
    "b0 = 270\n",
    "b1 = 308\n",
    "delta_a = np.deg2rad(6) /(np.cos(np.deg2rad(90 - (b1-b0)))**2)\n",
    "a = np.tan(np.deg2rad(90 - (b1-b0)))\n",
    "print(90 - (b1-b0), a, delta_a)"
   ]
  },
  {
   "cell_type": "code",
   "execution_count": 21,
   "metadata": {},
   "outputs": [
    {
     "data": {
      "text/plain": [
       "(1.2799416321930788, 1.2799416321930788)"
      ]
     },
     "execution_count": 21,
     "metadata": {},
     "output_type": "execute_result"
    }
   ],
   "source": [
    "# 3\n",
    "\n",
    "t = 142\n",
    "\n",
    "b = np.tan(np.deg2rad(90-(180 - t)))\n",
    "\n",
    "a, b"
   ]
  },
  {
   "cell_type": "code",
   "execution_count": 4,
   "metadata": {},
   "outputs": [],
   "source": [
    "# 4\n",
    "\n",
    "phi1 = 58\n",
    "phi2 = 148\n",
    "\n",
    "psi1 = 52\n",
    "psi2 = 142\n"
   ]
  },
  {
   "cell_type": "code",
   "execution_count": 5,
   "metadata": {},
   "outputs": [],
   "source": [
    "# 5\n",
    "\n",
    "# 6\n",
    "\n"
   ]
  }
 ],
 "metadata": {
  "kernelspec": {
   "display_name": "Python 3",
   "language": "python",
   "name": "python3"
  },
  "language_info": {
   "codemirror_mode": {
    "name": "ipython",
    "version": 3
   },
   "file_extension": ".py",
   "mimetype": "text/x-python",
   "name": "python",
   "nbconvert_exporter": "python",
   "pygments_lexer": "ipython3",
   "version": "3.11.6"
  }
 },
 "nbformat": 4,
 "nbformat_minor": 2
}
