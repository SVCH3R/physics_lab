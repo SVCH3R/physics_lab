{
 "cells": [
  {
   "cell_type": "code",
   "execution_count": 1,
   "metadata": {},
   "outputs": [],
   "source": [
    "import pandas as pd\n",
    "import numpy as np\n",
    "import matplotlib.pyplot as plt\n",
    "import seaborn as sns\n",
    "\n",
    "from scipy.optimize import curve_fit"
   ]
  },
  {
   "cell_type": "code",
   "execution_count": 3,
   "metadata": {},
   "outputs": [],
   "source": [
    "F = 28 # cm\n",
    "lamb = 6400 # + 200 Ang\n",
    "x_0 = 0.035 # mm "
   ]
  },
  {
   "cell_type": "code",
   "execution_count": 6,
   "metadata": {},
   "outputs": [],
   "source": [
    "d_0 = 20 # mkm\n",
    "nu = 1.01544 # MGz"
   ]
  },
  {
   "cell_type": "code",
   "execution_count": 5,
   "metadata": {},
   "outputs": [
    {
     "data": {
      "text/plain": [
       "1000"
      ]
     },
     "execution_count": 5,
     "metadata": {},
     "output_type": "execute_result"
    }
   ],
   "source": [
    "y_1 = 20 # mkm\n",
    "y_2 = 520 # mkm\n",
    "\n",
    "2 * (y_2 - y_1) # mkm"
   ]
  },
  {
   "cell_type": "code",
   "execution_count": 10,
   "metadata": {},
   "outputs": [
    {
     "data": {
      "text/plain": [
       "1015.4399999999999"
      ]
     },
     "execution_count": 10,
     "metadata": {},
     "output_type": "execute_result"
    }
   ],
   "source": [
    "2 * (y_2 - y_1) * nu # 1400~"
   ]
  },
  {
   "cell_type": "code",
   "execution_count": 11,
   "metadata": {},
   "outputs": [],
   "source": [
    "y = np.array([1.2, 1.28, 1.44, 1.6, 1.76, 1.88, 2.08, 2.24, 2.36, 2.52, 2.68, 2.84]) # 0.04 mm, возможно сотые нужно поделить на "
   ]
  },
  {
   "cell_type": "code",
   "execution_count": null,
   "metadata": {},
   "outputs": [],
   "source": []
  },
  {
   "cell_type": "markdown",
   "metadata": {},
   "source": [
    "1 клетка = 20 делений\n",
    "\n",
    "факт"
   ]
  },
  {
   "cell_type": "code",
   "execution_count": null,
   "metadata": {},
   "outputs": [],
   "source": [
    "#1.153\n",
    "yverh = 2.40\n",
    "yniz = 7.00\n",
    "nsvet = 9\n",
    "\n",
    "#2.05\n",
    "yverh = 3.08\n",
    "yniz = 6.92\n",
    "nsvet = 14\n",
    "\n",
    "#3.04\n",
    "yverh = 3.32\n",
    "yniz = 6.52\n",
    "nsvet = 13\n",
    "\n",
    "#4.136\n",
    "yverh = 2.8\n",
    "yniz = 6.36\n",
    "nsvet = 12\n",
    "\n"
   ]
  },
  {
   "cell_type": "code",
   "execution_count": null,
   "metadata": {},
   "outputs": [],
   "source": []
  }
 ],
 "metadata": {
  "kernelspec": {
   "display_name": "Python 3",
   "language": "python",
   "name": "python3"
  },
  "language_info": {
   "codemirror_mode": {
    "name": "ipython",
    "version": 3
   },
   "file_extension": ".py",
   "mimetype": "text/x-python",
   "name": "python",
   "nbconvert_exporter": "python",
   "pygments_lexer": "ipython3",
   "version": "3.11.6"
  }
 },
 "nbformat": 4,
 "nbformat_minor": 2
}
