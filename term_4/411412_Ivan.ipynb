{
 "cells": [
  {
   "cell_type": "code",
   "execution_count": 1,
   "metadata": {},
   "outputs": [],
   "source": [
    "import numpy as np"
   ]
  },
  {
   "cell_type": "code",
   "execution_count": 2,
   "metadata": {},
   "outputs": [],
   "source": [
    "xo = 135 #координата предмета\n",
    "\n",
    "x14 = 107\n",
    "#перевернули \n",
    "x14rev = 105\n",
    "\n",
    "x13 = 113\n",
    "x13rev = 112.7\n",
    "\n",
    "x12 = 119.9\n",
    "x12rev = 119.9\n",
    "\n",
    "x11 = 126.9\n",
    "x11rev = 127.7\n",
    "\n",
    "\n"
   ]
  },
  {
   "cell_type": "code",
   "execution_count": 7,
   "metadata": {},
   "outputs": [
    {
     "data": {
      "text/plain": [
       "10.200000000000003"
      ]
     },
     "execution_count": 7,
     "metadata": {},
     "output_type": "execute_result"
    }
   ],
   "source": [
    "#6 линза 11\n",
    "x_ekrana = 97.2\n",
    "x11 = 124.3\n",
    "x15 = 107.4\n",
    "f = x11 - x15 - (x11 - x_ekrana)\n",
    "f = -f\n",
    "f\n"
   ]
  },
  {
   "cell_type": "code",
   "execution_count": null,
   "metadata": {},
   "outputs": [],
   "source": [
    "#II\n",
    "\n",
    "L = 50\n",
    "s1 = 87.3\n",
    "s2 = 126.2\n",
    "\n",
    "#развернули линзу\n",
    "\n",
    "s1rev = 86.4\n",
    "s2rev = 125.6\n",
    "\n"
   ]
  },
  {
   "cell_type": "code",
   "execution_count": null,
   "metadata": {},
   "outputs": [],
   "source": [
    "#III\n",
    "\n",
    "size = 1.8\n",
    "imagesize = 0.3\n",
    "\n",
    "x0 = 111.1\n",
    "x_ekrana2 = 73.1\n",
    "y2 = 0.9\n"
   ]
  },
  {
   "cell_type": "code",
   "execution_count": null,
   "metadata": {},
   "outputs": [],
   "source": [
    "x0 = 135\n",
    "#вмещается 8 клеток"
   ]
  },
  {
   "cell_type": "code",
   "execution_count": null,
   "metadata": {},
   "outputs": [],
   "source": [
    "#IV\n",
    "#14 - коллиматор\n",
    "#12 - обьектив\n",
    "#15 - окуляр\n",
    "\n",
    "D_ob = 7\n",
    "D_ok = 1.6"
   ]
  },
  {
   "cell_type": "code",
   "execution_count": null,
   "metadata": {},
   "outputs": [],
   "source": [
    "#VI\n",
    "\n",
    "l = 4.7\n",
    "F = 135 - 119.4\n",
    "Frev = 135 - 119.9"
   ]
  },
  {
   "cell_type": "code",
   "execution_count": null,
   "metadata": {},
   "outputs": [],
   "source": [
    "f = 1/(1/10+1/)"
   ]
  }
 ],
 "metadata": {
  "kernelspec": {
   "display_name": "Python 3",
   "language": "python",
   "name": "python3"
  },
  "language_info": {
   "codemirror_mode": {
    "name": "ipython",
    "version": 3
   },
   "file_extension": ".py",
   "mimetype": "text/x-python",
   "name": "python",
   "nbconvert_exporter": "python",
   "pygments_lexer": "ipython3",
   "version": "3.11.6"
  }
 },
 "nbformat": 4,
 "nbformat_minor": 2
}
