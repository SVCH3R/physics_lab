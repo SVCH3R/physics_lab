{
 "cells": [
  {
   "cell_type": "code",
   "execution_count": null,
   "metadata": {},
   "outputs": [],
   "source": [
    "import numpy as np"
   ]
  },
  {
   "cell_type": "code",
   "execution_count": null,
   "metadata": {},
   "outputs": [],
   "source": [
    "#1\n",
    "xc = 3.74\n",
    "x = np.array([4.39, 4.62, 4.87, 5.08, 5.22, 5.38, 5.5, 5.63, 5.74, 5.85, 5.95, 6.06])\n",
    "\n",
    "xc1 = 3.7\n",
    "x1 = np.array([2.96, 2.65, 2.46, 2.30, 2.16, 2.08, 1.87, 1.77, 1.6, 1.5, 1.41, 1.31]) #в оратную сторону\n",
    "\n",
    "diam = 1.14\n",
    "#2\n",
    "\n",
    "dm = 15\n",
    "\n",
    "\n",
    "#3\n",
    "#comparison - 5:45 \n",
    "\n"
   ]
  }
 ],
 "metadata": {
  "language_info": {
   "name": "python"
  }
 },
 "nbformat": 4,
 "nbformat_minor": 2
}
