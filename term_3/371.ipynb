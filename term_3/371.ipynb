{
 "cells": [
  {
   "cell_type": "code",
   "execution_count": 19,
   "metadata": {},
   "outputs": [],
   "source": [
    "import numpy as np"
   ]
  },
  {
   "cell_type": "code",
   "execution_count": 20,
   "metadata": {},
   "outputs": [],
   "source": [
    "freq_h = 2250 #Hz\n",
    "\n",
    "freqs = np.array([0.01, 0.014, 0.018, 0.022, 0.026, 0.03, 0.034, 0.038, 0.042, 0.046, 0.05]) * freq_h\n",
    "\n",
    "# 22.5,  31.5,  40.5,  49.5,  58.5,  67.5,  76.5,  85.5,  94.5, 103.5, 112.5\n",
    "\n",
    "u = np.array([0.0723, 0.0997, 0.1254, 0.1495, 0.1716, 0.1918, 0.2101, 0.2265, 0.2411, 0.2542, 0.2670]) #V\n",
    "\n",
    "i = np.array([232, 230, 228, 226, 223, 220, 216, 213, 210, 207, 204]) #mA\n",
    "\n"
   ]
  },
  {
   "cell_type": "code",
   "execution_count": 21,
   "metadata": {},
   "outputs": [],
   "source": [
    "freqs2 = np.array([0.05, 0.06, 0.07, 0.08, 0.09, 0.1, 0.14, 0.18, 0.22, 0.26, 0.3, 0.34, 0.38, 0.42, 0.46, 0.5]) * freq_h\n",
    "freqs2\n",
    "\n",
    "u2 = np.array([301, 328, 348, 363, 374, 383, 400, 405, 405, 401, 396, 389, 381, 373, 365, 356]) / 10\n",
    "i2 = np.array([231, 223, 216, 211, 207, 203, 193, 187, 181, 178, 173, 170, 166, 161, 158, 154])\n",
    "\n",
    "x0 = np.array([5.4, 3.5, 3, 2.4, 2.3, 2.1, 1.5, 1.1, 2.1, 1.7, 1.5, 1.2, 1.2, 2.8, 2.6, 2.4])\n",
    "x = np.array([2.4, 2.2, 2, 1.8, 1.7, 1.6, 1.2, 1, 1.5, 1.3, 1.2, 1, 0.9, 2, 1.8, 1.6])"
   ]
  },
  {
   "cell_type": "code",
   "execution_count": 30,
   "metadata": {},
   "outputs": [
    {
     "name": "stdout",
     "output_type": "stream",
     "text": [
      "-0.6931471805599453 2.70805020110221\n",
      "[ 1125.          2250.          2822.65154772  3541.04967105\n",
      "  4442.28859313  5572.90345459  6991.2731384   8770.63464206\n",
      " 11002.86464307 13803.2235174  17316.30676663 21723.51115363]\n"
     ]
    }
   ],
   "source": [
    "shag = (np.log(15) - np.log(0.5)) / 15\n",
    "\n",
    "logs = np.array([np.log(0.5)])\n",
    "\n",
    "for i in range(11):\n",
    "  logs = np.append(logs, i * shag)\n",
    "\n",
    "freq3 = np.exp(logs)*freq_h\n",
    "\n",
    "\n",
    "u3 = np.array([357, 253, 214, 176, 141, 110, 82, 61, 44, 31, 23, 18]) / 10\n",
    "i3 = np.array([154, 110, 94, 79, 65, 53, 41, 33, 26, 20, 14, 9])\n",
    "\n",
    "x30 = np.array([2.4, 2.7, 2.2, 3.7, 3, 2.7, 3.2, 2.6, 2, 1.4, 0.9, 2.4])\n",
    "x3 = np.array([1.6, 1.3, 1, 1, 1.4, 0.6, 2, 2.4, 1.7, 1.6, 1.7, 6.6])\n",
    "\n",
    "\n",
    "\n",
    "print(np.log(0.5), np.log(15))\n",
    "print(freq3)\n",
    "\n"
   ]
  },
  {
   "cell_type": "code",
   "execution_count": null,
   "metadata": {},
   "outputs": [],
   "source": [
    "freq4 = np.array([100, 200, 300, 400, 500, 600, 750, 800, 1000, 4000, 7500, 12000, 15000, 20000]) #Hz\n",
    "l = np.array([8.55, 6.13, 4.77, 4.07, 3.69, 3.46, 0.48, 3.2, -0.16, 2.89, 2.92, 3.05, 3.22, 3.72]) #mHn\n",
    "\n"
   ]
  }
 ],
 "metadata": {
  "kernelspec": {
   "display_name": "Python 3",
   "language": "python",
   "name": "python3"
  },
  "language_info": {
   "codemirror_mode": {
    "name": "ipython",
    "version": 3
   },
   "file_extension": ".py",
   "mimetype": "text/x-python",
   "name": "python",
   "nbconvert_exporter": "python",
   "pygments_lexer": "ipython3",
   "version": "3.11.6"
  }
 },
 "nbformat": 4,
 "nbformat_minor": 2
}
